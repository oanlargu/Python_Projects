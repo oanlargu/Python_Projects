{
  "nbformat": 4,
  "nbformat_minor": 0,
  "metadata": {
    "colab": {
      "name": "money_piece.ipynb",
      "provenance": [],
      "collapsed_sections": []
    },
    "kernelspec": {
      "name": "python3",
      "display_name": "Python 3"
    }
  },
  "cells": [
    {
      "cell_type": "code",
      "metadata": {
        "colab": {
          "base_uri": "https://localhost:8080/"
        },
        "id": "H41oHjsvV9DU",
        "outputId": "782517c0-8d2c-4ab5-9dd7-eb99e4341122"
      },
      "source": [
        "totalMoney = 200\n",
        "materialPrice = 11\n",
        "piece = 200 // 11\n",
        "remainingMoney = totalMoney % piece\n",
        "print(\"With your ${}, {} pieces of material you can get for ${} each.  The remaining money is ${}\".format(totalMoney, piece, materialPrice, remainingMoney))"
      ],
      "execution_count": null,
      "outputs": [
        {
          "output_type": "stream",
          "text": [
            "With your $200, 18 pieces of material you can get for $11 each.  The remaining money is $2\n"
          ],
          "name": "stdout"
        }
      ]
    }
  ]
}