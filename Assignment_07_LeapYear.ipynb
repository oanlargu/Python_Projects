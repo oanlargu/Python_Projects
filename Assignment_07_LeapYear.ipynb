{
  "nbformat": 4,
  "nbformat_minor": 0,
  "metadata": {
    "colab": {
      "name": "assgnmnt_008-8.ipynb",
      "provenance": []
    },
    "kernelspec": {
      "name": "python3",
      "display_name": "Python 3"
    },
    "language_info": {
      "name": "python"
    }
  },
  "cells": [
    {
      "cell_type": "code",
      "metadata": {
        "colab": {
          "base_uri": "https://localhost:8080/"
        },
        "id": "3zVfWoLwwMBv",
        "outputId": "8e43d8c0-c83a-45c3-8efc-ad6be5ef6f7c"
      },
      "source": [
        "year = int(input(\"Enter the year : \"))\n",
        "if year % 4 == 0 and year % 100 != 0 : print(f\"{year} is a leap year.\")\n",
        "elif year % 100 == 0 and year % 400 == 0 : print(f\"{year} is a leap year.\")\n",
        "else : print(f\"{year} is a NOT a leap year.\")\n",
        " \n",
        "\n",
        "\n",
        "\n"
      ],
      "execution_count": 34,
      "outputs": [
        {
          "output_type": "stream",
          "text": [
            "Enter the year : 1773\n",
            "1773 is a NOT a leap year.\n"
          ],
          "name": "stdout"
        }
      ]
    }
  ]
}