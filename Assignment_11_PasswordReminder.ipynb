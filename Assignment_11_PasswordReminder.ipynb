{
  "nbformat": 4,
  "nbformat_minor": 0,
  "metadata": {
    "colab": {
      "name": "Assgnmnt_PasswordReminder.ipynb",
      "provenance": [],
      "collapsed_sections": []
    },
    "kernelspec": {
      "name": "python3",
      "display_name": "Python 3"
    },
    "language_info": {
      "name": "python"
    }
  },
  "cells": [
    {
      "cell_type": "code",
      "metadata": {
        "colab": {
          "base_uri": "https://localhost:8080/"
        },
        "id": "mT7VJ2bdpy6W",
        "outputId": "7a5ed851-34ab-4881-a2da-0db689fe00e7"
      },
      "source": [
        "name = \"Onur\"\n",
        "user_name = str(input(\"Enter your name : \"))\n",
        "if user_name == name :\n",
        "  print (f\"Hello {user_name}! The password is : W@12\")\n",
        "else : print(f\"Hello {user_name}! See you later.\")"
      ],
      "execution_count": 4,
      "outputs": [
       
      ]
    }
  ]
}
