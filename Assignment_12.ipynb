{
  "nbformat": 4,
  "nbformat_minor": 0,
  "metadata": {
    "colab": {
      "name": "datajarlab_1.ipynb",
      "provenance": [],
      "collapsed_sections": []
    },
    "kernelspec": {
      "display_name": "Python 3",
      "name": "python3"
    }
  },
  "cells": [
    {
      "cell_type": "code",
      "metadata": {
        "colab": {
          "base_uri": "https://localhost:8080/",
          "height": 35
        },
        "id": "pvpDtez_9pcj",
        "outputId": "ee9a0e5d-b083-48d8-fffc-3361573d2af3"
      },
      "source": [
        "aylar = [['January', 31], ['February', 28], ['March', 31], ['April', 30], \\\n",
        "         ['May', 31], ['June', 30], ['July', 31], ['August', 31], \\\n",
        "         ['September', 30], ['October', 31], ['November', 30], ['December', 31]]\n",
        "#print(aylar, end = \"\")\n",
        "kis = [\"December\", \"January\", \"February\"]\n",
        "ilkbahar = [\"March\", \"April\", \"May\"]\n",
        "yaz = [\"June\", \"July\", \"August\"]\n",
        "sonbahar = [\"September\", \"October\", \"November\"]\n",
        "\n",
        "aylar[4]\n",
        "\n",
        "yaz[0]"
      ],
      "execution_count": null,
      "outputs": [
        {
          "output_type": "execute_result",
          "data": {
            "application/vnd.google.colaboratory.intrinsic+json": {
              "type": "string"
            },
            "text/plain": [
              "'June'"
            ]
          },
          "metadata": {
            "tags": []
          },
          "execution_count": 99
        }
      ]
    },
    {
      "cell_type": "code",
      "metadata": {
        "colab": {
          "base_uri": "https://localhost:8080/"
        },
        "id": "T8FhT9x65-K4",
        "outputId": "c17ed169-60b2-4acd-c378-152ef8850d11"
      },
      "source": [
        "scores = [98, 87, 78, 86, 68, 94, 76, 97 ,56, 98, 76, 87, 79, 90, 73, 93, 82, 69, 97, 98]\n",
        "a = len(scores)\n",
        "scores.sort()\n",
        "print(scores)\n",
        "b = scores[a-1]\n",
        "c = scores.index(b)\n",
        "a - c"
      ],
      "execution_count": null,
      "outputs": [
        {
          "output_type": "stream",
          "text": [
            "[56, 68, 69, 73, 76, 76, 78, 79, 82, 86, 87, 87, 90, 93, 94, 97, 97, 98, 98, 98]\n"
          ],
          "name": "stdout"
        },
        {
          "output_type": "execute_result",
          "data": {
            "text/plain": [
              "3"
            ]
          },
          "metadata": {
            "tags": []
          },
          "execution_count": 79
        }
      ]
    },
    {
      "cell_type": "code",
      "metadata": {
        "colab": {
          "base_uri": "https://localhost:8080/"
        },
        "id": "5eqmgsXN4snA",
        "outputId": "36e7ece0-c641-496b-8d14-9b2992abc4dd"
      },
      "source": [
        " names = [\"David\", \"Michael\", \"John\", \"James\", \"Greg\", \"Mark\", \"William\", \n",
        "          \"Richard\", \"Thomas\", \"Steven\", \"Mary\", \"Susan\", \"Maria\", \"Karen\", \n",
        "          \"Lisa\", \"Linda\", \"Donna\", \"Patricia\", \"Debra\", \"Eric\"]\n",
        "\n",
        " scores = [99, 87, 78, 86, 68, 94, 76, 97, 56, 98, 76, 87, 79, 90, 73, 93, 82, 69, 97, 98]\n",
        "\n",
        " name = str(input(\"Enter the name of student : \"))\n",
        " sira = names.index(name)\n",
        " ogr_notu = scores[sira]\n",
        " ogr_notu"
      ],
      "execution_count": null,
      "outputs": [
        {
          "output_type": "stream",
          "text": [
            "Enter the name of student : Eric\n"
          ],
          "name": "stdout"
        },
        {
          "output_type": "execute_result",
          "data": {
            "text/plain": [
              "98"
            ]
          },
          "metadata": {
            "tags": []
          },
          "execution_count": 58
        }
      ]
    },
    {
      "cell_type": "code",
      "metadata": {
        "colab": {
          "base_uri": "https://localhost:8080/"
        },
        "id": "WvAyfiun3In9",
        "outputId": "8399fdf2-bc20-4b0d-8e9f-57273869e138"
      },
      "source": [
        "my_list = [34, 56, 76, 45, 2, 12, 67, 98, 37, 54, 66]\n",
        "my_list.sort()\n",
        "a = len(my_list)\n",
        "b = int(my_list[0])\n",
        "c = int(my_list[a-1])\n",
        "b + c"
      ],
      "execution_count": null,
      "outputs": [
        {
          "output_type": "execute_result",
          "data": {
            "text/plain": [
              "100"
            ]
          },
          "metadata": {
            "tags": []
          },
          "execution_count": 54
        }
      ]
    },
    {
      "cell_type": "code",
      "metadata": {
        "colab": {
          "base_uri": "https://localhost:8080/"
        },
        "id": "C8mcxnUEnB4m",
        "outputId": "651e6e77-b3b4-4b11-c619-edab65223315"
      },
      "source": [
        "a = str(input(\"Üç rakamlı bir sayı giriniz : \"))\n",
        "rakam = int(a[0]) + int(a[1]) + int(a[2])\n",
        "print(\"Girilen sayının rakam değerleri toplamı : \", str(rakam))"
      ],
      "execution_count": null,
      "outputs": [
        {
          "output_type": "stream",
          "text": [
            "Üç rakamlı bir sayı giriniz : 356\n",
            "Girilen sayının rakam değerleri toplamı :  14\n"
          ],
          "name": "stdout"
        }
      ]
    },
    {
      "cell_type": "code",
      "metadata": {
        "colab": {
          "base_uri": "https://localhost:8080/"
        },
        "id": "LizGM_X1YtLp",
        "outputId": "87762340-f330-4920-b255-5f9ae6ced70a"
      },
      "source": [
        "name = \"Anıl\"\n",
        "sname = \"Anlargu\"\n",
        "yas = 36\n",
        "metin = \"Benim adım %s %s. Yaşım %d\"\n",
        "print(metin %(name, sname, yas))"
      ],
      "execution_count": null,
      "outputs": [
        {
          "output_type": "stream",
          "text": [
            "Benim adım Anıl Anlargu. Yaşım 36\n"
          ],
          "name": "stdout"
        }
      ]
    }
  ]
}