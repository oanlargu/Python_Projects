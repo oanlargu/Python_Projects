{
  "nbformat": 4,
  "nbformat_minor": 0,
  "metadata": {
    "colab": {
      "name": "assgnmnt008_6.ipynb",
      "provenance": [],
      "collapsed_sections": []
    },
    "kernelspec": {
      "name": "python3",
      "display_name": "Python 3"
    },
    "language_info": {
      "name": "python"
    }
  },
  "cells": [
    {
      "cell_type": "code",
      "metadata": {
        "colab": {
          "base_uri": "https://localhost:8080/"
        },
        "id": "pAdDeXkhE0dF",
        "outputId": "09de9ec5-f23a-4eb4-99dc-84437b07bd1b"
      },
      "source": [
        "n = int(input(\"Enter the limit number : \"))\n",
        "prime_list = []\n",
        "for k in range(2,n) :\n",
        "  prime = 0\n",
        "  for i in range(1,n+1) :\n",
        "    if k % i == 0 :\n",
        "      prime += 1\n",
        "  if prime <= 2 :\n",
        "    prime_list.append(k)\n",
        "\n",
        "print(prime_list)\n",
        "  \n",
        "\n",
        "\n"
      ],
      "execution_count": 46,
      "outputs": [
        {
          "output_type": "stream",
          "text": [
            "Enter the limit number : 100\n",
            "[2, 3, 5, 7, 11, 13, 17, 19, 23, 29, 31, 37, 41, 43, 47, 53, 59, 61, 67, 71, 73, 79, 83, 89, 97]\n"
          ],
          "name": "stdout"
        }
      ]
    }
  ]
}