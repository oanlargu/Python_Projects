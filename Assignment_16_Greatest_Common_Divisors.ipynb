{
  "nbformat": 4,
  "nbformat_minor": 0,
  "metadata": {
    "colab": {
      "name": "OBEB.ipynb",
      "provenance": [],
      "collapsed_sections": []
    },
    "kernelspec": {
      "name": "python3",
      "display_name": "Python 3"
    },
    "language_info": {
      "name": "python"
    }
  },
  "cells": [
    {
      "cell_type": "code",
      "metadata": {
        "colab": {
          "base_uri": "https://localhost:8080/"
        },
        "id": "ulky6gOTURIR",
        "outputId": "828eb818-6d64-42f1-e31f-77d2ff86499a"
      },
      "source": [
        "def obeb (**numbers) :\n",
        "  primes = [2,3,5,7,11,13,17]\n",
        "  numbers = [int(i) for i in str(input(\"Enter the numbers with seperator ',' : \")).split(\",\")]\n",
        "  obbs2 = []\n",
        "  i = 0\n",
        "  while i < len(primes) :\n",
        "    k = 0\n",
        "    kontrol = 0\n",
        "    sayac = 0\n",
        "    while k < len(numbers) :\n",
        "      if numbers[k] != 1 and numbers[k] % primes[i] == 0 :\n",
        "        numbers[k] = numbers[k] / primes[i]\n",
        "        kontrol += 1\n",
        "        sayac += 1\n",
        "      else :\n",
        "        numbers[k] = numbers[k]\n",
        "      if kontrol == 0 and k == len(numbers)-1 :\n",
        "        i = i + 1    \n",
        "        break\n",
        "      elif k != len(numbers) : k += 1\n",
        "          \n",
        "    if sayac == len(numbers) : obbs2.append(primes[i])\n",
        "\n",
        "  obb = 1\n",
        "  for i in obbs2 :\n",
        "    obb = obb * i\n",
        "  print(f\"The largest common adviser of the entered numbers is {obb}.\") \n",
        "  print(\"The multiplier(s) of the entered number(s) is/are : \", obbs2)\n",
        "obeb()"
      ],
      "execution_count": 71,
      "outputs": [
        {
          "output_type": "stream",
          "text": [
            "Enter the numbers with seperator ',' : 4,14,24\n",
            "The largest common adviser of the entered numbers is 2.\n",
            "The multipliers of the entered numbers are :  [2]\n"
          ],
          "name": "stdout"
        }
      ]
    }
  ]
}