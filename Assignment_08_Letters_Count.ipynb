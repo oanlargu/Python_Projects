{
  "nbformat": 4,
  "nbformat_minor": 0,
  "metadata": {
    "colab": {
      "name": "assgnmnt_008-9_LettersCount.ipynb",
      "provenance": []
    },
    "kernelspec": {
      "name": "python3",
      "display_name": "Python 3"
    },
    "language_info": {
      "name": "python"
    }
  },
  "cells": [
    {
      "cell_type": "code",
      "metadata": {
        "colab": {
          "base_uri": "https://localhost:8080/"
        },
        "id": "UBxFW9md3xu-",
        "outputId": "1609e15f-9fce-44df-fe15-692cfd5ae504"
      },
      "source": [
        "sentence = str(input(\"Enter the sentence that will count :\")).lower()\n",
        "letters = list(set(sentence))\n",
        "result = {}\n",
        "\n",
        "for i in range(0,len(letters)) :\n",
        "  result[letters[i]] = sentence.count(letters[i])\n",
        "\n",
        "print(result)"
      ],
      "execution_count": 16,
      "outputs": [
        {
          "output_type": "stream",
          "text": [
            "Enter the sentence that will count :hippo runs to us!\n",
            "{' ': 3, 'i': 1, 'n': 1, '!': 1, 'r': 1, 'p': 2, 'h': 1, 'u': 2, 's': 2, 't': 1, 'o': 2}\n"
          ],
          "name": "stdout"
        }
      ]
    }
  ]
}