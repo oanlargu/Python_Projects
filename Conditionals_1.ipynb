{
  "nbformat": 4,
  "nbformat_minor": 0,
  "metadata": {
    "colab": {
      "name": "conditional_1.ipynb",
      "provenance": []
    },
    "kernelspec": {
      "name": "python3",
      "display_name": "Python 3"
    },
    "language_info": {
      "name": "python"
    }
  },
  "cells": [
    {
      "cell_type": "code",
      "metadata": {
        "colab": {
          "base_uri": "https://localhost:8080/"
        },
        "id": "xrGaJDB4dZrL",
        "outputId": "8d763bb4-182a-4a94-bb6a-3ad91b5d9c5a"
      },
      "source": [
        "sayi = int(input(\"Bir sayı giriniz: \"))\n",
        "if sayi < 5 :\n",
        "  print(\"Girdiğiniz sayı 5'ten küçüktür.\")\n",
        "elif sayi > 5 :\n",
        "  print(\"Girdiğiniz sayı 5'ten büyüktür.\")\n",
        "else :\n",
        "  print(\"Girdiğiniz sayı 5'tir.\")\n",
        "\n",
        "\n",
        "\n",
        "\n",
        "\n"
      ],
      "execution_count": 99,
      "outputs": [
        {
          "output_type": "stream",
          "text": [
            "Bir sayı giriniz: 5\n",
            "Girdiğiniz sayı 5'tir.\n"
          ],
          "name": "stdout"
        }
      ]
    }
  ]
}