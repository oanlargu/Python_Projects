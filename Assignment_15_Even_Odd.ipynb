{
  "nbformat": 4,
  "nbformat_minor": 0,
  "metadata": {
    "colab": {
      "name": "tekcift.ipynb",
      "provenance": []
    },
    "kernelspec": {
      "name": "python3",
      "display_name": "Python 3"
    },
    "language_info": {
      "name": "python"
    }
  },
  "cells": [
    {
      "cell_type": "code",
      "metadata": {
        "colab": {
          "base_uri": "https://localhost:8080/"
        },
        "id": "S4386RLAKwnK",
        "outputId": "755f8c1c-e065-41de-959b-c7029dafe244"
      },
      "source": [
        "ornek = [13, 26, 33, 44, 59, 61, 72, 86, 90]\n",
        "tek = list()\n",
        "cift = list()\n",
        "\n",
        "for x in range(len(ornek)) :\n",
        "  if ornek[x]%2 == 0 :\n",
        "    cift.append(ornek[x])\n",
        "  else :\n",
        "    tek.append(ornek[x])\n",
        "  \n",
        "print(len(tek))\n",
        "print(len(cift))"
      ],
      "execution_count": 87,
      "outputs": [
        {
          "output_type": "stream",
          "text": [
            "4\n",
            "5\n"
          ],
          "name": "stdout"
        }
      ]
    }
  ]
}