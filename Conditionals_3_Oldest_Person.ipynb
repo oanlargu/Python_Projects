{
  "nbformat": 4,
  "nbformat_minor": 0,
  "metadata": {
    "colab": {
      "name": "conditional_condass2.ipynb",
      "provenance": [],
      "collapsed_sections": []
    },
    "kernelspec": {
      "name": "python3",
      "display_name": "Python 3"
    },
    "language_info": {
      "name": "python"
    }
  },
  "cells": [
    {
      "cell_type": "code",
      "metadata": {
        "colab": {
          "base_uri": "https://localhost:8080/"
        },
        "id": "_pIUC2kjK-AV",
        "outputId": "bc08090d-2d58-4403-ff6f-39fa898a0816"
      },
      "source": [
        "personel = {}\n",
        "sayı = 1\n",
        "while sayı != 4 :\n",
        "  name = str(input(\"Enter the name of person {} : \".format(sayı)))\n",
        "  age = int(input(\"Enter the age of person {} : \".format(sayı)))\n",
        "  personel.update({age : name})\n",
        "  sayı += 1\n",
        "\n",
        "ages = list(personel.keys())\n",
        "ages.sort(reverse=True)\n",
        "oldest_age = ages[0]\n",
        "\n",
        "print(\"The oldest person is {}.\".format(personel[oldest_age]))\n"
      ],
      "execution_count": 97,
      "outputs": [
        {
          "output_type": "stream",
          "text": [
            "Enter the name of person 1 : a\n",
            "Enter the age of person 1 : 3\n",
            "Enter the name of person 2 : b\n",
            "Enter the age of person 2 : 78\n",
            "Enter the name of person 3 : s\n",
            "Enter the age of person 3 : 1\n",
            "The oldest person is b.\n"
          ],
          "name": "stdout"
        }
      ]
    }
  ]
}