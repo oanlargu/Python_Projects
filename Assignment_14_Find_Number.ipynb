{
  "nbformat": 4,
  "nbformat_minor": 0,
  "metadata": {
    "colab": {
      "name": "sayibulma.ipynb",
      "provenance": [],
      "collapsed_sections": []
    },
    "kernelspec": {
      "name": "python3",
      "display_name": "Python 3"
    },
    "language_info": {
      "name": "python"
    }
  },
  "cells": [
    {
      "cell_type": "code",
      "metadata": {
        "colab": {
          "base_uri": "https://localhost:8080/"
        },
        "id": "S4386RLAKwnK",
        "outputId": "6ab112fb-f895-431c-d230-02992e24397c"
      },
      "source": [
        "import random\n",
        "a = random.randint(1,101)\n",
        "#print(a)\n",
        "x = int(input(\"Enter a number : \"))\n",
        "count = 1\n",
        "while x != a :\n",
        "  if x<a :\n",
        "    x = int(input(\"Enter a number bigger then {}: \".format(x)))\n",
        "    count +=1\n",
        "  else :\n",
        "    x = int(input(\"Enter a number smaller then {}: \".format(x)))\n",
        "    count +=1\n",
        "\n",
        "if count <5 :\n",
        "  print(\"Congrigulations!!! You find the number in {} attempts.\".format(count))\n",
        "elif count <10 :\n",
        "  print(\"Not bad!!! You find the number in {} attempts.\".format(count))\n",
        "else :\n",
        "  print(\"You need to be work harder! You find the number in {} attempts.\".format(count))\n",
        "  "
      ],
      "execution_count": 117,
      "outputs": [
        {
          "output_type": "stream",
          "text": [
            "42\n",
            "Enter a number : 1\n",
            "Enter a number bigger then 1: 2\n",
            "Enter a number bigger then 2: 3\n",
            "Enter a number bigger then 3: 4\n",
            "Enter a number bigger then 4: 5\n",
            "Enter a number bigger then 5: 6\n",
            "Enter a number bigger then 6: 7\n",
            "Enter a number bigger then 7: 8\n",
            "Enter a number bigger then 8: 9\n",
            "Enter a number bigger then 9: 10\n",
            "Enter a number bigger then 10: 42\n",
            "You need to be work harder! You find the number in 11 attempts.\n"
          ],
          "name": "stdout"
        }
      ]
    }
  ]
}