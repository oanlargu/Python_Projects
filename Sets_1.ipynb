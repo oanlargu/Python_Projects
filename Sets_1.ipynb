{
  "nbformat": 4,
  "nbformat_minor": 0,
  "metadata": {
    "colab": {
      "name": "set_1.ipynb",
      "provenance": []
    },
    "kernelspec": {
      "name": "python3",
      "display_name": "Python 3"
    },
    "language_info": {
      "name": "python"
    }
  },
  "cells": [
    {
      "cell_type": "code",
      "metadata": {
        "colab": {
          "base_uri": "https://localhost:8080/"
        },
        "id": "2-ok_HpvXpTP",
        "outputId": "4ad38460-a60c-455c-bcd8-22844affef98"
      },
      "source": [
        "boşküme = set()\n",
        "karakter = \"abcdefgh\"\n",
        "boşküme = set(karakter)\n",
        "boşküme2 = boşküme.copy()\n",
        "print(boşküme)\n",
        "print(boşküme2)\n",
        "boşküme2.add(\"1\")\n",
        "print(boşküme2)\n",
        "boşküme2.remove(\"h\")\n",
        "print(boşküme2)\n",
        "print(boşküme.difference(boşküme2))\n",
        "boşküme.discard(\"g\")\n",
        "print(boşküme)\n",
        "print(boşküme.union(boşküme2))"
      ],
      "execution_count": 87,
      "outputs": [
        {
          "output_type": "stream",
          "text": [
            "{'e', 'h', 'b', 'a', 'f', 'g', 'c', 'd'}\n",
            "{'e', 'h', 'b', 'a', 'f', 'g', 'c', 'd'}\n",
            "{'e', 'h', '1', 'b', 'a', 'f', 'g', 'c', 'd'}\n",
            "{'e', '1', 'b', 'a', 'f', 'g', 'c', 'd'}\n",
            "{'h'}\n",
            "{'e', 'h', 'b', 'a', 'f', 'c', 'd'}\n",
            "{'e', '1', 'b', 'a', 'f', 'g', 'c', 'h', 'd'}\n"
          ],
          "name": "stdout"
        }
      ]
    }
  ]
}