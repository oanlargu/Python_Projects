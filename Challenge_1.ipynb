{
  "nbformat": 4,
  "nbformat_minor": 0,
  "metadata": {
    "colab": {
      "name": "challenge_1.ipynb",
      "provenance": [],
      "collapsed_sections": []
    },
    "kernelspec": {
      "name": "python3",
      "display_name": "Python 3"
    },
    "language_info": {
      "name": "python"
    }
  },
  "cells": [
    {
      "cell_type": "code",
      "metadata": {
        "id": "-8Ev4rYZt12Y"
      },
      "source": [
        "text = ((input(\"Enter a text : \")))\n",
        "result =[]\n",
        "print(text)\n",
        "\n",
        "for i in range(len(text)) :\n",
        "  if text[i] != \" \" :\n",
        "    new_text = []\n",
        "    new_text = text[:i] + text[i].upper() + text[i+1:]\n",
        "    result.append(new_text)\n",
        "  else : continue\n",
        "\n",
        "print(result)\n"
      ],
      "execution_count": null,
      "outputs": []
    }
  ]
}