{
  "nbformat": 4,
  "nbformat_minor": 0,
  "metadata": {
    "colab": {
      "name": "conditional_while1.ipynb",
      "provenance": []
    },
    "kernelspec": {
      "name": "python3",
      "display_name": "Python 3"
    },
    "language_info": {
      "name": "python"
    }
  },
  "cells": [
    {
      "cell_type": "code",
      "metadata": {
        "colab": {
          "base_uri": "https://localhost:8080/"
        },
        "id": "ppQXeRq-18qG",
        "outputId": "908fa6f9-efb0-4592-c292-e2254609e043"
      },
      "source": [
        "fibo = [1,1]\n",
        "sayı_ilk = 1\n",
        "sayı_son = 1\n",
        "while sayı_ilk + sayı_son <= 55 :\n",
        "  sayı_son = sayı_ilk + sayı_son\n",
        "  fibo.append(sayı_son)\n",
        "  sayı_ilk = sayı_son - sayı_ilk\n",
        "print(fibo)\n"
      ],
      "execution_count": 3,
      "outputs": [
        {
          "output_type": "stream",
          "text": [
            "[1, 1, 2, 3, 5, 8, 13, 21, 34, 55]\n"
          ],
          "name": "stdout"
        }
      ]
    }
  ]
}
