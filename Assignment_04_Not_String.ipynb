{
  "nbformat": 4,
  "nbformat_minor": 0,
  "metadata": {
    "colab": {
      "name": "assgnmnt3_Not_String.ipynb",
      "provenance": [],
      "collapsed_sections": [],
      "authorship_tag": "ABX9TyN44FA2KwLkk6AlAndrCN5Z",
      "include_colab_link": true
    },
    "kernelspec": {
      "name": "python3",
      "display_name": "Python 3"
    },
    "language_info": {
      "name": "python"
    }
  },
  "cells": [
    {
      "cell_type": "markdown",
      "metadata": {
        "id": "view-in-github",
        "colab_type": "text"
      },
      "source": [
        "<a href=\"https://colab.research.google.com/github/oanlargu/phyton/blob/main/assgnmnt3_Not_String.ipynb\" target=\"_parent\"><img src=\"https://colab.research.google.com/assets/colab-badge.svg\" alt=\"Open In Colab\"/></a>"
      ]
    },
    {
      "cell_type": "code",
      "metadata": {
        "colab": {
          "base_uri": "https://localhost:8080/"
        },
        "id": "M2sD4gSXFs93",
        "outputId": "eed11ae2-3c9b-49be-8db3-5578a8e2caf0"
      },
      "source": [
        "def not_string(word):\n",
        "  if word.startswith(\"not\") == True :\n",
        "    return word\n",
        "  else : return (\"not \" + word)\n",
        "  \n",
        "print(not_string('not sugar'))"
      ],
      "execution_count": 45,
      "outputs": [
        {
          "output_type": "stream",
          "text": [
            "not sugar\n"
          ],
          "name": "stdout"
        }
      ]
    }
  ]
}