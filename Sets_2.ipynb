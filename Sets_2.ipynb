{
  "nbformat": 4,
  "nbformat_minor": 0,
  "metadata": {
    "colab": {
      "name": "set_assg1.ipynb",
      "provenance": []
    },
    "kernelspec": {
      "name": "python3",
      "display_name": "Python 3"
    },
    "language_info": {
      "name": "python"
    }
  },
  "cells": [
    {
      "cell_type": "code",
      "metadata": {
        "colab": {
          "base_uri": "https://localhost:8080/"
        },
        "id": "2-ok_HpvXpTP",
        "outputId": "9785a826-17ba-4c7e-bea1-9f8d4ad53fcc"
      },
      "source": [
        "hafta = \"monday\", \"tuesday\", \"wednesday\", \"thursday\", \"friday\", \"saturday\", \"sunday\"\n",
        "hafta\n",
        "fruits = set([\"mango\", \"elma\", \"portakal\"])\n",
        "fruits\n",
        "new_fruits = set([\"kiraz\", \"şeftali\", \"elma\", \"mango\"])\n",
        "new_fruits\n",
        "print(new_fruits.difference(fruits))\n",
        "print(new_fruits.intersection(fruits))"
      ],
      "execution_count": 95,
      "outputs": [
        {
          "output_type": "stream",
          "text": [
            "{'kiraz', 'şeftali'}\n",
            "{'elma', 'mango'}\n"
          ],
          "name": "stdout"
        }
      ]
    }
  ]
}