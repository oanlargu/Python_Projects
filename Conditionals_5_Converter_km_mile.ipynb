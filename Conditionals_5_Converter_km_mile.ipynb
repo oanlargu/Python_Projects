{
  "nbformat": 4,
  "nbformat_minor": 0,
  "metadata": {
    "colab": {
      "name": "converter_km-mile_F-C.ipynb",
      "provenance": [],
      "collapsed_sections": []
    },
    "kernelspec": {
      "name": "python3",
      "display_name": "Python 3"
    }
  },
  "cells": [
    {
      "cell_type": "code",
      "metadata": {
        "colab": {
          "base_uri": "https://localhost:8080/"
        },
        "id": "QsSS56627Zpw",
        "outputId": "1c07675f-df92-433e-cc03-acbf64a127c6"
      },
      "source": [
        "distance_km = float(input(\"Enter the distance in kilometers : \"))\n",
        "distance_mile = round((distance_km*0.62137),2)\n",
        "print(f\"Distance is {distance_km} KM which is equal to {distance_mile} MILES.\")\n"
      ],
      "execution_count": null,
      "outputs": [
        {
          "output_type": "stream",
          "text": [
            "Enter the distance in kilometers : 10\n",
            "Distance is 10.0 KM which is equal to 6.21 MILES.\n"
          ],
          "name": "stdout"
        }
      ]
    },
    {
      "cell_type": "code",
      "metadata": {
        "colab": {
          "base_uri": "https://localhost:8080/"
        },
        "id": "tKMQYJTR6HWp",
        "outputId": "e9db85e5-e69d-4304-f6e7-39eb40de531a"
      },
      "source": [
        "temp_celsius = float(input(\"Enter the temperature in Celsius : \"))\n",
        "temp_fahrenheit = temp_celsius*1.8000+32\n",
        "print(f\"Temperature is {temp_celsius} C which is equal to {temp_fahrenheit} F.\")"
      ],
      "execution_count": null,
      "outputs": [
        {
          "output_type": "stream",
          "text": [
            "Enter the temperature in Celsius : 40\n",
            "Temperature is 40.0 C which is equal to 104.0 F.\n"
          ],
          "name": "stdout"
        }
      ]
    }
  ]
}