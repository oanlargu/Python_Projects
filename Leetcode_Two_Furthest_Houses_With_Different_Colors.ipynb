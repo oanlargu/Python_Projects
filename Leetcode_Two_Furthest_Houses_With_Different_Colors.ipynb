{
  "nbformat": 4,
  "nbformat_minor": 0,
  "metadata": {
    "colab": {
      "name": "Two Furthest Houses With Different Colors.ipynb",
      "provenance": [],
      "collapsed_sections": []
    },
    "kernelspec": {
      "name": "python3",
      "display_name": "Python 3"
    },
    "language_info": {
      "name": "python"
    }
  },
  "cells": [
    {
      "cell_type": "markdown",
      "metadata": {
        "id": "W4ysLV58OezV"
      },
      "source": [
        "#**Two Furthest Houses With Different Colors**\n",
        "There are n houses evenly lined up on the street, and each house is beautifully painted. You are given a 0-indexed integer array colors of length n, where colors[i] represents the color of the ith house.\n",
        "\n",
        "Return the maximum distance between two houses with different colors.\n",
        "\n",
        "The distance between the ith and jth houses is abs(i - j), where abs(x) is the absolute value of x.\n",
        "\n",
        "###**Constraints:**\n",
        "\n",
        "n == colors.length\n",
        "2 <= n <= 100\n",
        "0 <= colors[i] <= 100\n",
        "Test data are generated such that at least two houses have different colors.\n",
        "\n",
        "##Example 1:\n",
        "Input: colors = [1,1,1,6,1,1,1]\n",
        "Output: 3\n",
        "Explanation: In the above image, color 1 is blue, and color 6 is red.\n",
        "The furthest two houses with different colors are house 0 and house 3.\n",
        "House 0 has color 1, and house 3 has color 6. The distance between them is abs(0 - 3) = 3.\n",
        "Note that houses 3 and 6 can also produce the optimal answer.\n",
        "\n",
        "##Example 2:\n",
        "Input: colors = [1,8,3,8,3]\n",
        "Output: 4\n",
        "Explanation: In the above image, color 1 is blue, color 8 is yellow, and color 3 is green.\n",
        "The furthest two houses with different colors are house 0 and house 4.\n",
        "House 0 has color 1, and house 4 has color 3. The distance between them is abs(0 - 4) = 4.\n",
        "\n",
        "##Example 3:\n",
        "Input: colors = [0,1]\n",
        "Output: 1\n",
        "Explanation: The furthest two houses with different colors are house 0 and house 1.\n",
        "House 0 has color 0, and house 1 has color 1. The distance between them is abs(0 - 1) = 1."
      ]
    },
    {
      "cell_type": "code",
      "metadata": {
        "colab": {
          "base_uri": "https://localhost:8080/"
        },
        "id": "ga4ZAhoG1xmu",
        "outputId": "fb2cfc60-f060-4d9d-a0fd-ac7055290afa"
      },
      "source": [
        "colors = [1,1,1,6,1,1,1]\n",
        "unique_list = set(colors)\n",
        "unique_list = list(unique_list)\n",
        "z=[]\n",
        "for i in unique_list :\n",
        "  y=0\n",
        "  x=colors.index(i)\n",
        "  for j in range (colors.index(i), len(colors)-1) :\n",
        "    if colors[j+1] == i :\n",
        "      pass\n",
        "    else :\n",
        "      y = j+1\n",
        "      z.append(y-x)\n",
        "\n",
        "print(max(z))\n"
      ],
      "execution_count": 7,
      "outputs": [
        {
          "output_type": "stream",
          "name": "stdout",
          "text": [
            "3\n"
          ]
        }
      ]
    }
  ]
}