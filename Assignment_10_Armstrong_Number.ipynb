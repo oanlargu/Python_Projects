{
  "nbformat": 4,
  "nbformat_minor": 0,
  "metadata": {
    "colab": {
      "name": "Assgnmnt_Armstrong_Number.ipynb",
      "provenance": [],
      "collapsed_sections": []
    },
    "kernelspec": {
      "name": "python3",
      "display_name": "Python 3"
    },
    "language_info": {
      "name": "python"
    }
  },
  "cells": [
    {
      "cell_type": "code",
      "metadata": {
        "colab": {
          "base_uri": "https://localhost:8080/"
        },
        "id": "RWlWHQc6AxgY",
        "outputId": "3e83adf5-bc9d-4444-daa7-60e168599096"
      },
      "source": [
        "number = input(\"Enter a positive integer : \")\n",
        "digit = {\"1\", \"2\", \"3\", \"4\", \"5\", \"6\", \"7\", \"8\", \"9\", \"0\"}\n",
        "number_set = set(number)\n",
        "number_set.union(digit)\n",
        "result = 0\n",
        "\n",
        "if number_set.union(digit) != digit or list(number_set)[0] == \"-\" :\n",
        "  print(\"It is an invalid entry. Don't use non-numeric, float, or negative values!\")\n",
        "else :\n",
        "  for i in number_set :\n",
        "    result = result + int(i)**len(number)\n",
        "  print(f\"{number} is an Armstrong number\" if result == int(number) else \\\n",
        "        f\"{number} is NOT an Armstrong number\" )\n",
        "\n",
        "\n",
        "#  print((result = result + i**len(number)) for i in number)"
      ],
      "execution_count": 85,
      "outputs": [
        {
          "output_type": "stream",
          "text": [
            "Enter a positive integer : 987546\n",
            "987546 is NOT an Armstrong number\n"
          ],
          "name": "stdout"
        }
      ]
    }
  ]
}