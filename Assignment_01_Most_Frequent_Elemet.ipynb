{
  "nbformat": 4,
  "nbformat_minor": 0,
  "metadata": {
    "colab": {
      "name": "Assignment8.ipynb",
      "provenance": [],
      "collapsed_sections": []
    },
    "kernelspec": {
      "name": "python3",
      "display_name": "Python 3"
    },
    "language_info": {
      "name": "python"
    }
  },
  "cells": [
    {
      "cell_type": "code",
      "metadata": {
        "colab": {
          "base_uri": "https://localhost:8080/"
        },
        "id": "2ugROECrLB7M",
        "outputId": "48cbe902-d00d-41f4-9ec2-ae17ea8ada29"
      },
      "source": [
        "numbers = [1, 3, 7, 4, 3, 0, 3, 6, 3]\n",
        "numbers_set = set(numbers)\n",
        "say = len(numbers_set)\n",
        "counts = []\n",
        "values = []\n",
        "a = 0\n",
        "while a != say :\n",
        "  counts.append(numbers.count(numbers[a]))\n",
        "  values.append(numbers[a])\n",
        "  a += 1\n",
        "\n",
        "print(\"The most frequent number is {}, and it was repeated {} times.\"\\\n",
        "      .format(values[counts.index(max(counts))], max(counts)))\n",
        "\n"
      ],
      "execution_count": 41,
      "outputs": [
        {
          "output_type": "stream",
          "text": [
            "The most frequent number is 3, and it was repeated 4 times.\n"
          ],
          "name": "stdout"
        }
      ]
    }
  ]
}