{
  "nbformat": 4,
  "nbformat_minor": 0,
  "metadata": {
    "colab": {
      "name": "Untitled5.ipynb",
      "provenance": []
    },
    "kernelspec": {
      "name": "python3",
      "display_name": "Python 3"
    },
    "language_info": {
      "name": "python"
    }
  },
  "cells": [
    {
      "cell_type": "code",
      "metadata": {
        "colab": {
          "base_uri": "https://localhost:8080/"
        },
        "id": "cLQFwbSVP1Ur",
        "outputId": "c3b0d104-18de-4961-d24b-76cda1222ac8"
      },
      "source": [
        "mytuple = (1,5, 8, 3, 9, 10)\n",
        "mylist = list(mytuple)\n",
        "mylist.append(6)\n",
        "print(mytuple)\n",
        "print(mylist)\n",
        "mylist.reverse()\n",
        "print(mylist)\n",
        "mylist.sort(reverse=True)\n",
        "print(mylist)\n",
        "mylist2 = mylist.copy()\n",
        "print(mylist2)\n",
        "mylist2.extend([\"a\", \"b\", \"c\"])\n",
        "print(mylist2)\n",
        "mylist2.index(3)\n",
        "mylist2.remove(3)\n",
        "mylist2.insert(5,\"onur\")\n",
        "print(mylist2)\n",
        "mylist2[5]=\"anıl\"\n",
        "print(mylist2)\n"
      ],
      "execution_count": 65,
      "outputs": [
        {
          "output_type": "stream",
          "text": [
            "(1, 5, 8, 3, 9, 10)\n",
            "[1, 5, 8, 3, 9, 10, 6]\n",
            "[6, 10, 9, 3, 8, 5, 1]\n",
            "[10, 9, 8, 6, 5, 3, 1]\n",
            "[10, 9, 8, 6, 5, 3, 1]\n",
            "[10, 9, 8, 6, 5, 3, 1, 'a', 'b', 'c']\n",
            "[10, 9, 8, 6, 5, 'onur', 1, 'a', 'b', 'c']\n",
            "[10, 9, 8, 6, 5, 'anıl', 1, 'a', 'b', 'c']\n"
          ],
          "name": "stdout"
        }
      ]
    }
  ]
}