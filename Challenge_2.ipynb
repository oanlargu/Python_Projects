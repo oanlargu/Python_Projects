{
  "nbformat": 4,
  "nbformat_minor": 0,
  "metadata": {
    "colab": {
      "name": "challenge_2.ipynb",
      "provenance": [],
      "collapsed_sections": []
    },
    "kernelspec": {
      "name": "python3",
      "display_name": "Python 3"
    },
    "language_info": {
      "name": "python"
    }
  },
  "cells": [
    {
      "cell_type": "code",
      "metadata": {
        "colab": {
          "base_uri": "https://localhost:8080/"
        },
        "id": "LmeVO2AK4Snf",
        "outputId": "48ec725e-f5ff-4760-f6c0-ce5fb1e32681"
      },
      "source": [
        "def total_odd_triangle(x) :\n",
        "  count = 0\n",
        "  for k in range(1, x+1) : count += k\n",
        "  \n",
        "  numbers = []\n",
        "  k = 1\n",
        "  i = 1\n",
        "  while i <= count :\n",
        "   if k%2 != 0 :\n",
        "     numbers.append(k)\n",
        "     i += 1\n",
        "     k += 1\n",
        "   else : k += 1\n",
        "\n",
        "  total = 0\n",
        "  for i in range(1, x+1):\n",
        "    total += numbers[-i]\n",
        "  \n",
        "  print(total)\n",
        "\n",
        "total_odd_triangle(41)\n"
      ],
      "execution_count": 43,
      "outputs": [
        {
          "output_type": "stream",
          "text": [
            "68921\n"
          ],
          "name": "stdout"
        }
      ]
    }
  ]
}