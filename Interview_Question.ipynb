{
  "nbformat": 4,
  "nbformat_minor": 0,
  "metadata": {
    "colab": {
      "name": "Interview_Question.ipynb",
      "provenance": [],
      "collapsed_sections": []
    },
    "kernelspec": {
      "name": "python3",
      "display_name": "Python 3"
    },
    "language_info": {
      "name": "python"
    }
  },
  "cells": [
    {
      "cell_type": "code",
      "metadata": {
        "colab": {
          "base_uri": "https://localhost:8080/"
        },
        "id": "bi2vFBJw2FLS",
        "outputId": "9b9b8db7-5cd7-4990-c422-68354af0b14b"
      },
      "source": [
        "### Verilen listedeki ilk item ı sırasıyla diğerleri ile karşılaştırır,\n",
        "### benzer olanları \"deger\" listesinde toplar,\n",
        "### her grup için output_list listesine yeni ir item olarak ekler...\n",
        "\n",
        "input_list = [\"eat\", \"tea\", \"tan\", \"ate\", \"nat\", \"bat\"]\n",
        "output_list = []\n",
        "i = 0                                                     # Daima ilk elemanı karşılaştırır\n",
        "while len(input_list) > 0 :\n",
        "  deger = [input_list[i].lower()]\n",
        "  sayac = len(input_list)\n",
        "  x = 1                                                   # Daima ikinci elemandan başlayarak karşılaştırır\n",
        "  while x < sayac :\n",
        "    if set(input_list[i].lower()) == set(input_list[x].lower()) :\n",
        "      deger.append(input_list[x].lower())                 # Benzer olanları bir listede toplar\n",
        "      input_list.pop(x)                                   # Benzer olanları ana listeden çıkarır\n",
        "      sayac = sayac-1\n",
        "    else :\n",
        "      x += 1\n",
        "  output_list.append(deger)                               # Benzer elemanlar listesini ana çıktı listesine ekler\n",
        "  input_list.pop(i)                                       # İlk elemanı ana listeden silerek bir sonraki gruba geçer\n",
        "\n",
        "\n",
        "for i in range(0,len(output_list)) :\n",
        "  print(output_list[i], \"\\n\")\n",
        "\n",
        "\n",
        "\n"
      ],
      "execution_count": 43,
      "outputs": [
        {
          "output_type": "stream",
          "text": [
            "['eat', 'tea', 'ate'] \n",
            "\n",
            "['tan', 'nat'] \n",
            "\n",
            "['bat'] \n",
            "\n"
          ],
          "name": "stdout"
        }
      ]
    }
  ]
}