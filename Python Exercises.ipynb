{
 "cells": [
  {
   "cell_type": "markdown",
   "id": "b5dee183-eefa-485a-ad9f-b97ee9923618",
   "metadata": {},
   "source": [
    "1. This problem was asked by Google.\n",
    "Given an array of strictly the characters 'R', 'G', and 'B', segregate the values of the array so that all the Rs come first, the Gs come second, and the Bs come last. You can only swap elements of the array.\n",
    "Do this in linear time and in-place.\n",
    "For example, given the array ['G', 'B', 'R', 'R', 'B', 'R', 'G'], it should become ['R', 'R', 'R', 'G', 'G', 'B', 'B']."
   ]
  },
  {
   "cell_type": "code",
   "execution_count": 27,
   "id": "fb91162f-5d53-4c3a-b9c9-57ee6cd68ef1",
   "metadata": {},
   "outputs": [
    {
     "name": "stdout",
     "output_type": "stream",
     "text": [
      "['R', 'R', 'R', 'R', 'R', 'R', 'G', 'G', 'G', 'G', 'B', 'B', 'B']\n"
     ]
    }
   ],
   "source": [
    "L = ['G', 'B', 'R', 'R', 'B', 'R', 'G', 'R', 'G', 'R', 'B', 'R', 'G']\n",
    "R = []\n",
    "G = []\n",
    "B = []\n",
    "S = []\n",
    "\n",
    "for i in range (len(L)) :\n",
    "    x = str(L[i])\n",
    "    if x == \"R\" : R.append(x)\n",
    "    elif x == \"G\" : G.append(x)\n",
    "    else : B.append(x)\n",
    "\n",
    "for i in range (len(R)) :\n",
    "    x = str(R[i])\n",
    "    S.append(x)\n",
    "    \n",
    "for i in range (len(G)) :\n",
    "    x = str(G[i])\n",
    "    S.append(x)\n",
    "\n",
    "for i in range (len(B)) :\n",
    "    x = str(B[i])\n",
    "    S.append(x)\n",
    "    \n",
    "print(S)"
   ]
  },
  {
   "cell_type": "code",
   "execution_count": 51,
   "id": "43fd8e10-075b-40d9-8b5b-4e36cea8ac83",
   "metadata": {},
   "outputs": [
    {
     "name": "stdout",
     "output_type": "stream",
     "text": [
      "['R', 'R', 'R', 'R', 'R', 'R', 'G', 'G', 'G', 'B', 'B', 'B', 'B']\n"
     ]
    }
   ],
   "source": [
    "L = ['G', 'B', 'R', 'R', 'B', 'R', 'G', 'R', 'G', 'R', 'B', 'R', 'G']\n",
    "\n",
    "R = G = B = 0\n",
    "\n",
    "for i in range (len(L)) :\n",
    "    if L[i] == 'R' : R += 1\n",
    "    elif L[i] == 'B' : G += 1\n",
    "    else : B += 1\n",
    "\n",
    "print(R * [\"R\"] + G * [\"G\"] + B * [\"B\"])"
   ]
  },
  {
   "cell_type": "code",
   "execution_count": null,
   "id": "10f62cbd-6444-46cc-8c8b-91a8a84d5912",
   "metadata": {},
   "outputs": [],
   "source": []
  }
 ],
 "metadata": {
  "kernelspec": {
   "display_name": "Python 3",
   "language": "python",
   "name": "python3"
  },
  "language_info": {
   "codemirror_mode": {
    "name": "ipython",
    "version": 3
   },
   "file_extension": ".py",
   "mimetype": "text/x-python",
   "name": "python",
   "nbconvert_exporter": "python",
   "pygments_lexer": "ipython3",
   "version": "3.8.8"
  }
 },
 "nbformat": 4,
 "nbformat_minor": 5
}
