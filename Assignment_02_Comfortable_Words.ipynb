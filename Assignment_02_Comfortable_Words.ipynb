{
  "nbformat": 4,
  "nbformat_minor": 0,
  "metadata": {
    "colab": {
      "name": "Assignment_3.ipynb",
      "provenance": [],
      "collapsed_sections": []
    },
    "kernelspec": {
      "name": "python3",
      "display_name": "Python 3"
    },
    "language_info": {
      "name": "python"
    }
  },
  "cells": [
    {
      "cell_type": "code",
      "metadata": {
        "colab": {
          "base_uri": "https://localhost:8080/"
        },
        "id": "I83-h439ysd7",
        "outputId": "37a55729-ef0a-4dee-9ff2-60cbfeb410c5"
      },
      "source": [
        "left_fingers = {\"q\", \"w\", \"e\", \"r\", \"t\", \"a\", \"s\", \"d\", \"f\", \"g\", \"z\", \"x\", \"c\", \"v\", \"b\"}\n",
        "right_fingers = {\"y\", \"u\", \"i\", \"o\", \"p\", \"h\", \"j\", \"k\", \"l\", \"n\", \"m\"}\n",
        "\n",
        "word = input(\"Enter the word : \").lower().strip()\n",
        "wordset = set(word)\n",
        "if wordset.intersection(left_fingers.union(right_fingers)) == wordset \\\n",
        "and wordset.intersection(left_fingers) != wordset \\\n",
        "and wordset.intersection(right_fingers) != wordset :\n",
        "  print(\"True\")\n",
        "else :\n",
        "  print(\"False\")\n",
        "\n"
      ],
      "execution_count": 17,
      "outputs": [
        {
          "output_type": "stream",
          "text": [
            "Enter the word : Anil\n",
            "True\n"
          ],
          "name": "stdout"
        }
      ]
    }
  ]
}