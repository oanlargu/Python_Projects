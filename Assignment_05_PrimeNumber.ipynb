{
  "nbformat": 4,
  "nbformat_minor": 0,
  "metadata": {
    "colab": {
      "name": "Assgnmnt_PrimeNumber.ipynb",
      "provenance": [],
      "collapsed_sections": []
    },
    "kernelspec": {
      "name": "python3",
      "display_name": "Python 3"
    },
    "language_info": {
      "name": "python"
    }
  },
  "cells": [
    {
      "cell_type": "code",
      "metadata": {
        "colab": {
          "base_uri": "https://localhost:8080/"
        },
        "id": "rYQubfQfexsU",
        "outputId": "10d918ae-0425-412c-9067-f8a503ae1d64"
      },
      "source": [
        "natural_numbers = [i for i in range(2,10)]\n",
        "number = int(input(\"Enter a positive integer number : \"))\n",
        "prime = 0\n",
        "for i in natural_numbers :\n",
        "  if number % i == 0 : prime += 1\n",
        "\n",
        "if prime <= 1 : print(f\"{number} is a prime number.\")\n",
        "else : print(f\"{number} is NOT a prime number.\")\n"
      ],
      "execution_count": 24,
      "outputs": [
        {
          "output_type": "stream",
          "text": [
            "Enter a positive integer number : 15\n",
            "15 is NOT a prime number.\n"
          ],
          "name": "stdout"
        }
      ]
    }
  ]
}