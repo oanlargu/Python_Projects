{
  "nbformat": 4,
  "nbformat_minor": 0,
  "metadata": {
    "colab": {
      "name": "conditional_condass1.ipynb",
      "provenance": []
    },
    "kernelspec": {
      "name": "python3",
      "display_name": "Python 3"
    },
    "language_info": {
      "name": "python"
    }
  },
  "cells": [
    {
      "cell_type": "code",
      "metadata": {
        "colab": {
          "base_uri": "https://localhost:8080/"
        },
        "id": "XPSNERb7-Dgs",
        "outputId": "5fe70ee7-2b11-4419-8eef-f13edf7c2e91"
      },
      "source": [
        "temp = str(input(\"Enter the temprature in C or F : \"))\n",
        "temp = temp.upper()\n",
        "fahrenheit = temp.find(\"F\")\n",
        "celsius = temp.find(\"C\")\n",
        "if fahrenheit != -1 :\n",
        "  say = temp.index(\"F\")\n",
        "  temp = temp[:say]\n",
        "  temp = int(temp)\n",
        "  temp_C = (5/9) * (temp - 32) \n",
        "  print(\"Temperature is\", \"{:.2f}\".format(temp_C),  \"Celcius.\")\n",
        "elif celsius != -1 :\n",
        "  say = temp.index(\"C\")\n",
        "  temp = temp[:say]\n",
        "  temp = int(temp)\n",
        "  temp_F = temp * 9 / 5 + 32\n",
        "  print(\"Temperature is\", \"{:.2f}\".format(temp_F),  \"Fahrenheit.\")\n"
      ],
      "execution_count": 50,
      "outputs": [
        {
          "output_type": "stream",
          "text": [
            "Enter the temprature in C or F : 77f\n",
            "Temperature is 25.00 Celcius.\n"
          ],
          "name": "stdout"
        }
      ]
    }
  ]
}