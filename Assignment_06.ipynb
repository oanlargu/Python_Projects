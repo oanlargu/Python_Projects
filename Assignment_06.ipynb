{
  "nbformat": 4,
  "nbformat_minor": 0,
  "metadata": {
    "colab": {
      "name": "assgnmnt_008_7.ipynb",
      "provenance": [],
      "collapsed_sections": []
    },
    "kernelspec": {
      "name": "python3",
      "display_name": "Python 3"
    },
    "language_info": {
      "name": "python"
    }
  },
  "cells": [
    {
      "cell_type": "code",
      "metadata": {
        "colab": {
          "base_uri": "https://localhost:8080/"
        },
        "id": "-JJnz8Vs9I_R",
        "outputId": "24da374f-e064-4207-84db-7227cd47a701"
      },
      "source": [
        "def fizzbuzz (x) :\n",
        "  numbers = []\n",
        "  for i in range(1,x+1) :\n",
        "    if i % 3 == 0 and i % 5 != 0 : numbers.append(\"Fizz\")\n",
        "    elif i % 5 == 0 and i % 3 != 0 : numbers.append(\"Buzz\")\n",
        "    elif i % 15 == 0 : numbers.append(\"FizzBuzz\")\n",
        "    else : numbers.append(i)\n",
        "  \n",
        "  for i in numbers :\n",
        "    print(i, \"\\n\")\n",
        "\n",
        "fizzbuzz(20)"
      ],
      "execution_count": 17,
      "outputs": [
        {
          "output_type": "stream",
          "text": [
            "1 \n",
            "\n",
            "2 \n",
            "\n",
            "Fizz \n",
            "\n",
            "4 \n",
            "\n",
            "Buzz \n",
            "\n",
            "Fizz \n",
            "\n",
            "7 \n",
            "\n",
            "8 \n",
            "\n",
            "Fizz \n",
            "\n",
            "Buzz \n",
            "\n",
            "11 \n",
            "\n",
            "Fizz \n",
            "\n",
            "13 \n",
            "\n",
            "14 \n",
            "\n",
            "FizzBuzz \n",
            "\n",
            "16 \n",
            "\n",
            "17 \n",
            "\n",
            "Fizz \n",
            "\n",
            "19 \n",
            "\n",
            "Buzz \n",
            "\n"
          ],
          "name": "stdout"
        }
      ]
    }
  ]
}